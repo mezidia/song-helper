{
 "cells": [
  {
   "cell_type": "markdown",
   "metadata": {},
   "source": [
    "### Text Classification With Machine Learning and SpaCy\n",
    "+ Text categorization / text classification is the task of assigning predefined categories to documents.\n",
    "+ Sentiment Analysis\n",
    "+ Multilabel classification\n",
    "+ + DataSet source http://archive.ics.uci.edu/ml/datasets/Sentiment+Labelled+Sentences\n",
    "\n",
    "##### Aim is to classify reviews into positive or negative review\n"
   ]
  },
  {
   "cell_type": "code",
   "execution_count": 47,
   "metadata": {},
   "outputs": [],
   "source": [
    "# Load EDA packages\n",
    "import pandas as pd"
   ]
  },
  {
   "cell_type": "code",
   "execution_count": 48,
   "metadata": {},
   "outputs": [],
   "source": [
    "# Load our dataset\n",
    "df_yelp = pd.read_table('yelp_labelled.txt')\n",
    "df_imdb = pd.read_table('imdb_labelled.txt')\n",
    "df_amz = pd.read_table('amazon_cells_labelled.txt')\n"
   ]
  },
  {
   "cell_type": "code",
   "execution_count": 49,
   "metadata": {},
   "outputs": [],
   "source": [
    "# Concatenate our Datasets\n",
    "frames = [df_yelp,df_imdb,df_amz]"
   ]
  },
  {
   "cell_type": "code",
   "execution_count": 50,
   "metadata": {},
   "outputs": [],
   "source": [
    "# Renaming Column Headers\n",
    "for colname in frames:\n",
    "    colname.columns = [\"Message\",\"Target\"]"
   ]
  },
  {
   "cell_type": "code",
   "execution_count": 51,
   "metadata": {},
   "outputs": [
    {
     "name": "stdout",
     "output_type": "stream",
     "text": [
      "Index(['Message', 'Target'], dtype='object')\n",
      "Index(['Message', 'Target'], dtype='object')\n",
      "Index(['Message', 'Target'], dtype='object')\n"
     ]
    }
   ],
   "source": [
    "# Column names\n",
    "for colname in frames:\n",
    "    print(colname.columns)"
   ]
  },
  {
   "cell_type": "code",
   "execution_count": 52,
   "metadata": {},
   "outputs": [],
   "source": [
    "# Assign a Key to Make it Easier\n",
    "keys = ['Yelp','IMDB','Amazon']"
   ]
  },
  {
   "cell_type": "code",
   "execution_count": 53,
   "metadata": {},
   "outputs": [],
   "source": [
    "# Merge or Concat our Datasets\n",
    "df = pd.concat(frames,keys=keys)"
   ]
  },
  {
   "cell_type": "code",
   "execution_count": 54,
   "metadata": {},
   "outputs": [
    {
     "data": {
      "text/plain": [
       "(2745, 2)"
      ]
     },
     "execution_count": 54,
     "metadata": {},
     "output_type": "execute_result"
    }
   ],
   "source": [
    "# Length and Shape \n",
    "df.shape"
   ]
  },
  {
   "cell_type": "code",
   "execution_count": 55,
   "metadata": {},
   "outputs": [
    {
     "data": {
      "text/html": [
       "<div>\n",
       "<style scoped>\n",
       "    .dataframe tbody tr th:only-of-type {\n",
       "        vertical-align: middle;\n",
       "    }\n",
       "\n",
       "    .dataframe tbody tr th {\n",
       "        vertical-align: top;\n",
       "    }\n",
       "\n",
       "    .dataframe thead th {\n",
       "        text-align: right;\n",
       "    }\n",
       "</style>\n",
       "<table border=\"1\" class=\"dataframe\">\n",
       "  <thead>\n",
       "    <tr style=\"text-align: right;\">\n",
       "      <th></th>\n",
       "      <th></th>\n",
       "      <th>Message</th>\n",
       "      <th>Target</th>\n",
       "    </tr>\n",
       "  </thead>\n",
       "  <tbody>\n",
       "    <tr>\n",
       "      <th rowspan=\"5\" valign=\"top\">Yelp</th>\n",
       "      <th>0</th>\n",
       "      <td>Crust is not good.</td>\n",
       "      <td>0</td>\n",
       "    </tr>\n",
       "    <tr>\n",
       "      <th>1</th>\n",
       "      <td>Not tasty and the texture was just nasty.</td>\n",
       "      <td>0</td>\n",
       "    </tr>\n",
       "    <tr>\n",
       "      <th>2</th>\n",
       "      <td>Stopped by during the late May bank holiday of...</td>\n",
       "      <td>1</td>\n",
       "    </tr>\n",
       "    <tr>\n",
       "      <th>3</th>\n",
       "      <td>The selection on the menu was great and so wer...</td>\n",
       "      <td>1</td>\n",
       "    </tr>\n",
       "    <tr>\n",
       "      <th>4</th>\n",
       "      <td>Now I am getting angry and I want my damn pho.</td>\n",
       "      <td>0</td>\n",
       "    </tr>\n",
       "  </tbody>\n",
       "</table>\n",
       "</div>"
      ],
      "text/plain": [
       "                                                  Message  Target\n",
       "Yelp 0                                 Crust is not good.       0\n",
       "     1          Not tasty and the texture was just nasty.       0\n",
       "     2  Stopped by during the late May bank holiday of...       1\n",
       "     3  The selection on the menu was great and so wer...       1\n",
       "     4     Now I am getting angry and I want my damn pho.       0"
      ]
     },
     "execution_count": 55,
     "metadata": {},
     "output_type": "execute_result"
    }
   ],
   "source": [
    "df.head()"
   ]
  },
  {
   "cell_type": "code",
   "execution_count": 56,
   "metadata": {},
   "outputs": [],
   "source": [
    "df.to_csv(\"sentimentdataset.csv\")"
   ]
  },
  {
   "cell_type": "code",
   "execution_count": 57,
   "metadata": {},
   "outputs": [
    {
     "data": {
      "text/plain": [
       "Index(['Message', 'Target'], dtype='object')"
      ]
     },
     "execution_count": 57,
     "metadata": {},
     "output_type": "execute_result"
    }
   ],
   "source": [
    "# Data Cleaning\n",
    "df.columns"
   ]
  },
  {
   "cell_type": "code",
   "execution_count": 58,
   "metadata": {},
   "outputs": [
    {
     "data": {
      "text/plain": [
       "Message    0\n",
       "Target     0\n",
       "dtype: int64"
      ]
     },
     "execution_count": 58,
     "metadata": {},
     "output_type": "execute_result"
    }
   ],
   "source": [
    "# Checking for Missing Values\n",
    "df.isnull().sum()"
   ]
  },
  {
   "cell_type": "markdown",
   "metadata": {},
   "source": [
    "###  Working with SpaCy\n",
    "+ Removing Stopwords\n",
    "+ Lemmatizing"
   ]
  },
  {
   "cell_type": "code",
   "execution_count": 59,
   "metadata": {},
   "outputs": [],
   "source": [
    "import spacy\n",
    "from spacy.lang.en.stop_words import STOP_WORDS\n",
    "nlp = spacy.load('en_core_web_sm')"
   ]
  },
  {
   "cell_type": "code",
   "execution_count": 60,
   "metadata": {},
   "outputs": [],
   "source": [
    "# Build a list of stopwords to use to filter\n",
    "stopwords = list(STOP_WORDS)"
   ]
  },
  {
   "cell_type": "code",
   "execution_count": 61,
   "metadata": {},
   "outputs": [
    {
     "data": {
      "text/plain": [
       "[\"'m\",\n",
       " 'afterwards',\n",
       " 'two',\n",
       " 'out',\n",
       " 'had',\n",
       " 'sometime',\n",
       " 'after',\n",
       " \"n't\",\n",
       " 'thereupon',\n",
       " 'together',\n",
       " 'which',\n",
       " 'though',\n",
       " 'wherever',\n",
       " 'others',\n",
       " 'towards',\n",
       " 'first',\n",
       " 'once',\n",
       " 'became',\n",
       " 'therein',\n",
       " 'these',\n",
       " 'indeed',\n",
       " 'further',\n",
       " 'ours',\n",
       " 'here',\n",
       " 'none',\n",
       " 'over',\n",
       " 'be',\n",
       " 'yourself',\n",
       " 'onto',\n",
       " 'give',\n",
       " 'her',\n",
       " 'yours',\n",
       " 'she',\n",
       " 'quite',\n",
       " 'everything',\n",
       " 'your',\n",
       " 'never',\n",
       " 'thus',\n",
       " 'nobody',\n",
       " 'elsewhere',\n",
       " 'even',\n",
       " 'seemed',\n",
       " 'get',\n",
       " 'own',\n",
       " 'nine',\n",
       " 'since',\n",
       " 'eight',\n",
       " 'latter',\n",
       " 'few',\n",
       " 'mine',\n",
       " 'in',\n",
       " 'than',\n",
       " '’s',\n",
       " 'besides',\n",
       " 'hers',\n",
       " 'around',\n",
       " 'go',\n",
       " 'could',\n",
       " 'all',\n",
       " 'between',\n",
       " 'whereas',\n",
       " 'themselves',\n",
       " 'itself',\n",
       " 'twelve',\n",
       " 'very',\n",
       " 'whereupon',\n",
       " '‘s',\n",
       " 'six',\n",
       " 'twenty',\n",
       " 'namely',\n",
       " 'thence',\n",
       " 'until',\n",
       " 'were',\n",
       " 'no',\n",
       " 'nothing',\n",
       " 'whose',\n",
       " 'regarding',\n",
       " 'thru',\n",
       " 'forty',\n",
       " 'become',\n",
       " 'nowhere',\n",
       " 'whom',\n",
       " 'is',\n",
       " 'down',\n",
       " 'some',\n",
       " 'either',\n",
       " 'mostly',\n",
       " 'sometimes',\n",
       " 'four',\n",
       " 'cannot',\n",
       " 'within',\n",
       " 'now',\n",
       " 'a',\n",
       " 'otherwise',\n",
       " 'therefore',\n",
       " 'should',\n",
       " 'somehow',\n",
       " 'n‘t',\n",
       " 'however',\n",
       " 'have',\n",
       " 'whatever',\n",
       " 'nor',\n",
       " 'below',\n",
       " 'beyond',\n",
       " 'was',\n",
       " 'them',\n",
       " 'wherein',\n",
       " \"'s\",\n",
       " 'front',\n",
       " 'with',\n",
       " 'by',\n",
       " 'everywhere',\n",
       " 're',\n",
       " 'made',\n",
       " 'whither',\n",
       " 'does',\n",
       " 'really',\n",
       " 'eleven',\n",
       " 'anyway',\n",
       " 'done',\n",
       " 'for',\n",
       " 'and',\n",
       " 'seem',\n",
       " '‘m',\n",
       " 'you',\n",
       " 'whence',\n",
       " 'so',\n",
       " 'meanwhile',\n",
       " 'this',\n",
       " 'anyone',\n",
       " 'three',\n",
       " 'many',\n",
       " 'name',\n",
       " 'hence',\n",
       " 'noone',\n",
       " 'an',\n",
       " 'see',\n",
       " 'someone',\n",
       " 'not',\n",
       " 'somewhere',\n",
       " '’re',\n",
       " 'beforehand',\n",
       " 'also',\n",
       " 'rather',\n",
       " 'same',\n",
       " 'alone',\n",
       " 'thereby',\n",
       " 'at',\n",
       " 'us',\n",
       " 'nevertheless',\n",
       " 'always',\n",
       " 'hundred',\n",
       " 'almost',\n",
       " 'various',\n",
       " 'everyone',\n",
       " 'because',\n",
       " \"'ll\",\n",
       " 'fifty',\n",
       " 'there',\n",
       " 'why',\n",
       " \"'ve\",\n",
       " 'against',\n",
       " 'except',\n",
       " 'during',\n",
       " 'neither',\n",
       " 'back',\n",
       " 'as',\n",
       " 'those',\n",
       " 'our',\n",
       " 'five',\n",
       " 'other',\n",
       " 'make',\n",
       " \"'re\",\n",
       " 'ca',\n",
       " 'please',\n",
       " '’ve',\n",
       " 'himself',\n",
       " 'whole',\n",
       " 'fifteen',\n",
       " 'beside',\n",
       " 'him',\n",
       " 'his',\n",
       " 'am',\n",
       " 'next',\n",
       " 'becomes',\n",
       " 'before',\n",
       " 'will',\n",
       " 'ever',\n",
       " 'my',\n",
       " 'used',\n",
       " 'do',\n",
       " 'often',\n",
       " 'latterly',\n",
       " '‘ve',\n",
       " 'being',\n",
       " 'whereby',\n",
       " \"'d\",\n",
       " '’m',\n",
       " '‘ll',\n",
       " 'less',\n",
       " 'to',\n",
       " 'serious',\n",
       " 'perhaps',\n",
       " 'of',\n",
       " 'if',\n",
       " 'on',\n",
       " 'already',\n",
       " 'empty',\n",
       " 'but',\n",
       " 'off',\n",
       " 'that',\n",
       " 'into',\n",
       " 'least',\n",
       " 'again',\n",
       " 'how',\n",
       " 'above',\n",
       " 'when',\n",
       " 'across',\n",
       " 'it',\n",
       " 'move',\n",
       " 'where',\n",
       " 'along',\n",
       " 'side',\n",
       " 'although',\n",
       " 'or',\n",
       " 'such',\n",
       " 'another',\n",
       " 'thereafter',\n",
       " 'per',\n",
       " 'well',\n",
       " 'hereupon',\n",
       " 'are',\n",
       " 'whenever',\n",
       " 'its',\n",
       " 'anyhow',\n",
       " 'doing',\n",
       " 'via',\n",
       " 'top',\n",
       " 'myself',\n",
       " 'something',\n",
       " 'third',\n",
       " 'any',\n",
       " 'keep',\n",
       " 'else',\n",
       " 'must',\n",
       " 'whereafter',\n",
       " 'former',\n",
       " 'bottom',\n",
       " 'last',\n",
       " 'i',\n",
       " 'seems',\n",
       " 'may',\n",
       " 'their',\n",
       " 'only',\n",
       " 'due',\n",
       " 'did',\n",
       " 'would',\n",
       " 'every',\n",
       " 'yourselves',\n",
       " 'put',\n",
       " '’d',\n",
       " 'unless',\n",
       " 'throughout',\n",
       " 'hereafter',\n",
       " 'upon',\n",
       " 'about',\n",
       " 'anywhere',\n",
       " 'yet',\n",
       " 'through',\n",
       " 'one',\n",
       " 'whoever',\n",
       " 'call',\n",
       " 'take',\n",
       " 'several',\n",
       " 'the',\n",
       " 'from',\n",
       " 'seeming',\n",
       " 'just',\n",
       " 'using',\n",
       " 'full',\n",
       " 'has',\n",
       " 'while',\n",
       " '’ll',\n",
       " 'moreover',\n",
       " 'who',\n",
       " 'herself',\n",
       " 'show',\n",
       " 'me',\n",
       " 'much',\n",
       " 'formerly',\n",
       " 'ten',\n",
       " 'n’t',\n",
       " 'amongst',\n",
       " 'up',\n",
       " 'enough',\n",
       " 'he',\n",
       " 'among',\n",
       " 'they',\n",
       " 'sixty',\n",
       " 'more',\n",
       " 'say',\n",
       " 'each',\n",
       " 'amount',\n",
       " 'part',\n",
       " 'hereby',\n",
       " 'becoming',\n",
       " 'most',\n",
       " 'too',\n",
       " 'whether',\n",
       " 'toward',\n",
       " 'what',\n",
       " 'then',\n",
       " 'can',\n",
       " 'anything',\n",
       " 'we',\n",
       " 'been',\n",
       " 'under',\n",
       " '‘d',\n",
       " 'ourselves',\n",
       " 'might',\n",
       " '‘re',\n",
       " 'behind',\n",
       " 'herein',\n",
       " 'both',\n",
       " 'still',\n",
       " 'without']"
      ]
     },
     "execution_count": 61,
     "metadata": {},
     "output_type": "execute_result"
    }
   ],
   "source": [
    "stopwords"
   ]
  },
  {
   "cell_type": "markdown",
   "metadata": {},
   "source": [
    "##### Getting Lemma and Stop words"
   ]
  },
  {
   "cell_type": "code",
   "execution_count": 62,
   "metadata": {},
   "outputs": [],
   "source": [
    "docx = nlp(\"This is how John Walker was walking. He was also running beside the lawn.\")"
   ]
  },
  {
   "cell_type": "code",
   "execution_count": null,
   "metadata": {},
   "outputs": [],
   "source": [
    "# Lemmatizing of tokens\n",
    "for word in docx:\n",
    "    print(word.text,\"Lemma =>\",word.lemma_)\n",
    "    "
   ]
  },
  {
   "cell_type": "code",
   "execution_count": null,
   "metadata": {},
   "outputs": [],
   "source": [
    "# Lemma that are not pronouns\n",
    "for word in docx:\n",
    "    if word.lemma_ != \"-PRON-\":\n",
    "        print(word.lemma_.lower().strip())"
   ]
  },
  {
   "cell_type": "code",
   "execution_count": null,
   "metadata": {},
   "outputs": [],
   "source": [
    "# List Comprehensions of our Lemma\n",
    "[word.lemma_.lower().strip() if word.lemma_ != \"-PRON-\" else word.lower_ for word in docx]"
   ]
  },
  {
   "cell_type": "code",
   "execution_count": null,
   "metadata": {},
   "outputs": [],
   "source": [
    "# Filtering out Stopwords and Punctuations\n",
    "for word in docx:\n",
    "    if word.is_stop == False and not word.is_punct:\n",
    "#     if word.is_stop != True and not word.is_punct:\n",
    "        print(word)"
   ]
  },
  {
   "cell_type": "code",
   "execution_count": null,
   "metadata": {},
   "outputs": [],
   "source": [
    "# Stop words and Punctuation In List Comprehension\n",
    "[ word for word in docx if word.is_stop == False and not word.is_punct ]"
   ]
  },
  {
   "cell_type": "code",
   "execution_count": null,
   "metadata": {},
   "outputs": [],
   "source": [
    "# Use the punctuations of string module\n",
    "import string\n",
    "punctuations = string.punctuation"
   ]
  },
  {
   "cell_type": "code",
   "execution_count": null,
   "metadata": {},
   "outputs": [],
   "source": [
    "# Creating a Spacy Parser\n",
    "from spacy.lang.en import English\n",
    "parser = English()"
   ]
  },
  {
   "cell_type": "code",
   "execution_count": null,
   "metadata": {},
   "outputs": [],
   "source": [
    "def spacy_tokenizer(sentence):\n",
    "    mytokens = parser(sentence)\n",
    "    mytokens = [ word.lemma_.lower().strip() if word.lemma_ != \"-PRON-\" else word.lower_ for word in mytokens ]\n",
    "    mytokens = [ word for word in mytokens if word not in stopwords and word not in punctuations ]\n",
    "    return mytokens"
   ]
  },
  {
   "cell_type": "markdown",
   "metadata": {},
   "source": [
    "#### Machine Learning With SKlearn"
   ]
  },
  {
   "cell_type": "code",
   "execution_count": null,
   "metadata": {},
   "outputs": [],
   "source": [
    "# ML Packages\n",
    "from sklearn.feature_extraction.text import CountVectorizer,TfidfVectorizer\n",
    "from sklearn.metrics import accuracy_score \n",
    "from sklearn.base import TransformerMixin \n",
    "from sklearn.pipeline import Pipeline\n",
    "from sklearn.svm import LinearSVC"
   ]
  },
  {
   "cell_type": "code",
   "execution_count": null,
   "metadata": {},
   "outputs": [],
   "source": [
    "#Custom transformer using spaCy \n",
    "class predictors(TransformerMixin):\n",
    "    def transform(self, X, **transform_params):\n",
    "        return [clean_text(text) for text in X]\n",
    "    def fit(self, X, y=None, **fit_params):\n",
    "        return self\n",
    "    def get_params(self, deep=True):\n",
    "        return {}\n",
    "\n",
    "# Basic function to clean the text \n",
    "def clean_text(text):     \n",
    "    return text.strip().lower()"
   ]
  },
  {
   "cell_type": "code",
   "execution_count": null,
   "metadata": {},
   "outputs": [],
   "source": [
    "# Vectorization\n",
    "vectorizer = CountVectorizer(tokenizer = spacy_tokenizer, ngram_range=(1,1)) \n",
    "classifier = LinearSVC()"
   ]
  },
  {
   "cell_type": "code",
   "execution_count": null,
   "metadata": {},
   "outputs": [],
   "source": [
    "# Using Tfidf\n",
    "tfvectorizer = TfidfVectorizer(tokenizer = spacy_tokenizer)"
   ]
  },
  {
   "cell_type": "code",
   "execution_count": null,
   "metadata": {},
   "outputs": [],
   "source": [
    "# Splitting Data Set\n",
    "from sklearn.model_selection import train_test_split"
   ]
  },
  {
   "cell_type": "code",
   "execution_count": null,
   "metadata": {},
   "outputs": [],
   "source": [
    "# Features and Labels\n",
    "X = df['Message']\n",
    "ylabels = df['Target']"
   ]
  },
  {
   "cell_type": "code",
   "execution_count": null,
   "metadata": {},
   "outputs": [],
   "source": [
    "X_train, X_test, y_train, y_test = train_test_split(X, ylabels, test_size=0.2, random_state=42)"
   ]
  },
  {
   "cell_type": "code",
   "execution_count": null,
   "metadata": {},
   "outputs": [],
   "source": [
    "# Create the  pipeline to clean, tokenize, vectorize, and classify \n",
    "pipe = Pipeline([(\"cleaner\", predictors()),\n",
    "                 ('vectorizer', vectorizer),\n",
    "                 ('classifier', classifier)])"
   ]
  },
  {
   "cell_type": "code",
   "execution_count": null,
   "metadata": {},
   "outputs": [],
   "source": [
    "# Fit our data\n",
    "pipe.fit(X_train,y_train)"
   ]
  },
  {
   "cell_type": "code",
   "execution_count": null,
   "metadata": {},
   "outputs": [],
   "source": [
    "# Predicting with a test dataset\n",
    "sample_prediction = pipe.predict(X_test)"
   ]
  },
  {
   "cell_type": "code",
   "execution_count": null,
   "metadata": {},
   "outputs": [],
   "source": [
    "# Prediction Results\n",
    "# 1 = Positive review\n",
    "# 0 = Negative review\n",
    "for (sample,pred) in zip(X_test,sample_prediction):\n",
    "    print(sample,\"Prediction=>\",pred)"
   ]
  },
  {
   "cell_type": "code",
   "execution_count": null,
   "metadata": {},
   "outputs": [],
   "source": [
    "# Accuracy\n",
    "print(\"Accuracy: \",pipe.score(X_test,y_test))\n",
    "print(\"Accuracy: \",pipe.score(X_test,sample_prediction))"
   ]
  },
  {
   "cell_type": "code",
   "execution_count": null,
   "metadata": {},
   "outputs": [],
   "source": [
    "# Accuracy\n",
    "print(\"Accuracy: \",pipe.score(X_train,y_train))\n"
   ]
  },
  {
   "cell_type": "code",
   "execution_count": null,
   "metadata": {},
   "outputs": [],
   "source": [
    "# Another random review\n",
    "pipe.predict([\"This was a great movie\"])"
   ]
  },
  {
   "cell_type": "code",
   "execution_count": null,
   "metadata": {},
   "outputs": [],
   "source": [
    "example = [\"I do enjoy my job\",\n",
    " \"What a poor product!,I will have to get a new one\",\n",
    " \"I feel amazing!\"]\n",
    "       "
   ]
  },
  {
   "cell_type": "code",
   "execution_count": null,
   "metadata": {},
   "outputs": [],
   "source": [
    "pipe.predict(example)"
   ]
  },
  {
   "cell_type": "code",
   "execution_count": null,
   "metadata": {},
   "outputs": [],
   "source": [
    "#### Using Tfid"
   ]
  },
  {
   "cell_type": "code",
   "execution_count": null,
   "metadata": {},
   "outputs": [],
   "source": [
    "# Create the  pipeline to clean, tokenize, vectorize, and classify \n",
    "pipe_tfid = Pipeline([(\"cleaner\", predictors()),\n",
    "                 ('vectorizer', tfvectorizer),\n",
    "                 ('classifier', classifier)])"
   ]
  },
  {
   "cell_type": "code",
   "execution_count": null,
   "metadata": {},
   "outputs": [],
   "source": [
    "pipe_tfid.fit(X_train,y_train)"
   ]
  },
  {
   "cell_type": "code",
   "execution_count": null,
   "metadata": {},
   "outputs": [],
   "source": [
    "sample_prediction1 = pipe_tfid.predict(X_test)"
   ]
  },
  {
   "cell_type": "code",
   "execution_count": null,
   "metadata": {},
   "outputs": [],
   "source": [
    "for (sample,pred) in zip(X_test,sample_prediction1):\n",
    "    print(sample,\"Prediction=>\", pred)"
   ]
  },
  {
   "cell_type": "code",
   "execution_count": null,
   "metadata": {},
   "outputs": [],
   "source": [
    "print(\"Accuracy: \",pipe_tfid.score(X_test,y_test))\n",
    "print(\"Accuracy: \",pipe_tfid.score(X_test,sample_prediction1))"
   ]
  },
  {
   "cell_type": "code",
   "execution_count": null,
   "metadata": {},
   "outputs": [],
   "source": [
    "### Jesse JCharis\n",
    "### J-Secur1ty\n",
    "### Jesus Saves @ JCharisTech"
   ]
  },
  {
   "cell_type": "code",
   "execution_count": null,
   "metadata": {},
   "outputs": [],
   "source": []
  }
 ],
 "metadata": {
  "kernelspec": {
   "display_name": "Python 3",
   "language": "python",
   "name": "python3"
  },
  "language_info": {
   "codemirror_mode": {
    "name": "ipython",
    "version": 3
   },
   "file_extension": ".py",
   "mimetype": "text/x-python",
   "name": "python",
   "nbconvert_exporter": "python",
   "pygments_lexer": "ipython3",
   "version": "3.9.1"
  }
 },
 "nbformat": 4,
 "nbformat_minor": 4
}
